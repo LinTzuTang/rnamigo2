{
 "cells": [
  {
   "cell_type": "code",
   "execution_count": 1,
   "metadata": {},
   "outputs": [],
   "source": [
    "from rnaglib.prepare_data import fr3d_to_graph\n",
    "\n",
    "def get_residue_list(cif_path, chain=None):\n",
    "    # Convert CIF file to networkx graph\n",
    "    nx_graph = fr3d_to_graph(cif_path)\n",
    "    \n",
    "    # Filter based on the chain provided (default is None, which returns all nodes)\n",
    "    if chain:\n",
    "        node_list = [node.split('.')[1] + '.' + node.split('.')[2] for node in nx_graph.nodes() if node.split('.')[1] == chain]\n",
    "    else:\n",
    "        node_list = [node.split('.')[1] + '.' + node.split('.')[2] for node in nx_graph.nodes()]\n",
    "    \n",
    "    # Return as a comma-separated string\n",
    "    return ','.join(node_list)"
   ]
  },
  {
   "cell_type": "code",
   "execution_count": 2,
   "metadata": {},
   "outputs": [
    {
     "name": "stderr",
     "output_type": "stream",
     "text": [
      "\u001b[32m2024-11-04 08:02:51.537\u001b[0m | \u001b[33m\u001b[1mWARNING \u001b[0m | \u001b[36mrnamigos.utils.graph_utils\u001b[0m:\u001b[36mget_dgl_graph\u001b[0m:\u001b[36m94\u001b[0m - \u001b[33m\u001b[1mConversion of mmCIF to graph by fr3d-python created 0 residues with missing residue IDs. Removing [] from the graph.\u001b[0m\n"
     ]
    },
    {
     "name": "stdout",
     "output_type": "stream",
     "text": [
      "  Found 10 nucleotide-nucleotide interactions\n",
      "Using ['R', 'E', 'Q', 'F']\n",
      "  Found 10 nucleotide-nucleotide interactions\n",
      "Using ['R', 'E', 'Q', 'F']\n",
      "hi\n",
      "Successfully built the graph\n",
      "Successfully parsed ligands, ready for inference\n"
     ]
    },
    {
     "name": "stderr",
     "output_type": "stream",
     "text": [
      "/blue/yanjun.li/tzutang.lin/rnamigos2/rnamigos/inference.py:83: RuntimeWarning: invalid value encountered in divide\n",
      "  out_scores = (scores - scores.min()) / (scores.max() - scores.min())\n"
     ]
    }
   ],
   "source": [
    "from inference import do_inference, get_residue_list\n",
    "\n",
    "base_path =\"case_test\"\n",
    "\n",
    "# Define the CIF file path\n",
    "cif_path = \"3g96_M_6MN_pocket.cif\"\n",
    "\n",
    "# Get residue lists for all and chain 'B'\n",
    "residue_list_all = get_residue_list(cif_path)\n",
    "\n",
    "\n",
    "ligands_path = 'case_test/test'\n",
    "out_path_all = \"case_test/3g96_M_6MN.out\"\n",
    "\n",
    "\n",
    "do_inference(\n",
    "    cif_path=cif_path,\n",
    "    residue_list=residue_list_all.split(\",\"),\n",
    "    ligands_path=ligands_path,\n",
    "    out_path=out_path_all,\n",
    "    dump_all=True,\n",
    ")"
   ]
  },
  {
   "cell_type": "code",
   "execution_count": null,
   "metadata": {},
   "outputs": [],
   "source": []
  }
 ],
 "metadata": {
  "kernelspec": {
   "display_name": "Python 3",
   "language": "python",
   "name": "python3"
  },
  "language_info": {
   "codemirror_mode": {
    "name": "ipython",
    "version": 3
   },
   "file_extension": ".py",
   "mimetype": "text/x-python",
   "name": "python",
   "nbconvert_exporter": "python",
   "pygments_lexer": "ipython3",
   "version": "3.10.14"
  },
  "orig_nbformat": 4
 },
 "nbformat": 4,
 "nbformat_minor": 2
}
